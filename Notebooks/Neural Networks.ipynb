{
 "cells": [
  {
   "cell_type": "markdown",
   "metadata": {
    "slideshow": {
     "slide_type": "slide"
    }
   },
   "source": [
    "# Neural Networks"
   ]
  },
  {
   "cell_type": "markdown",
   "metadata": {
    "slideshow": {
     "slide_type": "slide"
    }
   },
   "source": [
    "## Map of Machine Learning \n",
    "![Alt text](https://i.pinimg.com/originals/6e/9b/dd/6e9bdde9d485fe2476738ab1733e8d49.png)"
   ]
  },
  {
   "cell_type": "code",
   "execution_count": 1,
   "metadata": {
    "slideshow": {
     "slide_type": "skip"
    }
   },
   "outputs": [],
   "source": [
    "import numpy as np\n",
    "import pandas as pd\n",
    "import seaborn as sns; sns.set()\n",
    "import matplotlib.pyplot as plt\n",
    "import warnings\n",
    "from matplotlib.colors import ListedColormap\n",
    "\n",
    "warnings.filterwarnings('ignore')\n",
    "\n",
    "np.random.seed(0)"
   ]
  },
  {
   "cell_type": "markdown",
   "metadata": {
    "slideshow": {
     "slide_type": "slide"
    }
   },
   "source": [
    "## Neural Networks\n",
    "* Function approximators"
   ]
  },
  {
   "cell_type": "markdown",
   "metadata": {
    "slideshow": {
     "slide_type": "slide"
    }
   },
   "source": [
    "### OR Function"
   ]
  },
  {
   "cell_type": "code",
   "execution_count": 2,
   "metadata": {
    "slideshow": {
     "slide_type": "fragment"
    }
   },
   "outputs": [
    {
     "data": {
      "text/html": [
       "<div>\n",
       "<style scoped>\n",
       "    .dataframe tbody tr th:only-of-type {\n",
       "        vertical-align: middle;\n",
       "    }\n",
       "\n",
       "    .dataframe tbody tr th {\n",
       "        vertical-align: top;\n",
       "    }\n",
       "\n",
       "    .dataframe thead th {\n",
       "        text-align: right;\n",
       "    }\n",
       "</style>\n",
       "<table border=\"1\" class=\"dataframe\">\n",
       "  <thead>\n",
       "    <tr style=\"text-align: right;\">\n",
       "      <th></th>\n",
       "      <th>x1</th>\n",
       "      <th>x2</th>\n",
       "      <th>y</th>\n",
       "    </tr>\n",
       "  </thead>\n",
       "  <tbody>\n",
       "    <tr>\n",
       "      <th>0</th>\n",
       "      <td>0</td>\n",
       "      <td>0</td>\n",
       "      <td>0</td>\n",
       "    </tr>\n",
       "    <tr>\n",
       "      <th>1</th>\n",
       "      <td>0</td>\n",
       "      <td>1</td>\n",
       "      <td>1</td>\n",
       "    </tr>\n",
       "    <tr>\n",
       "      <th>2</th>\n",
       "      <td>1</td>\n",
       "      <td>0</td>\n",
       "      <td>1</td>\n",
       "    </tr>\n",
       "    <tr>\n",
       "      <th>3</th>\n",
       "      <td>1</td>\n",
       "      <td>1</td>\n",
       "      <td>1</td>\n",
       "    </tr>\n",
       "  </tbody>\n",
       "</table>\n",
       "</div>"
      ],
      "text/plain": [
       "   x1  x2  y\n",
       "0   0   0  0\n",
       "1   0   1  1\n",
       "2   1   0  1\n",
       "3   1   1  1"
      ]
     },
     "execution_count": 2,
     "metadata": {},
     "output_type": "execute_result"
    }
   ],
   "source": [
    "df = pd.DataFrame([[0,0,0],[0,1,1],[1,0,1],[1,1,1]],columns=['x1','x2','y'])\n",
    "df.head()"
   ]
  },
  {
   "cell_type": "code",
   "execution_count": 3,
   "metadata": {
    "slideshow": {
     "slide_type": "skip"
    }
   },
   "outputs": [],
   "source": [
    "df['bias'] = 1\n",
    "X = df[['bias','x1','x2']].values; Y = df['y'].values"
   ]
  },
  {
   "cell_type": "markdown",
   "metadata": {
    "slideshow": {
     "slide_type": "slide"
    }
   },
   "source": [
    "## Plotting OR"
   ]
  },
  {
   "cell_type": "code",
   "execution_count": 4,
   "metadata": {},
   "outputs": [
    {
     "data": {
      "image/png": "[encoded data removed]",
      "text/plain": [
       "<Figure size 432x288 with 1 Axes>"
      ]
     },
     "metadata": {
      "needs_background": "light"
     },
     "output_type": "display_data"
    }
   ],
   "source": [
    "plt.scatter(df['x1'],df['x2'],c=df['y'])\n",
    "plt.show()"
   ]
  },
  {
   "cell_type": "markdown",
   "metadata": {
    "slideshow": {
     "slide_type": "slide"
    }
   },
   "source": [
    "## Perceptron Learning"
   ]
  },
  {
   "cell_type": "code",
   "execution_count": 5,
   "metadata": {},
   "outputs": [],
   "source": [
    "alpha = 0.01                            # set learning rate\n",
    "theta = np.random.randn(3)              # init weights\n",
    "\n",
    "J = []                                  # store cost\n",
    "for i in range(1000):\n",
    "    y_hat = np.dot(X, theta) > 0        # make predictions\n",
    "    err = Y - y_hat                     # measure error\n",
    "    gradient = - np.dot(err, X)         # compute gradients\n",
    "    \n",
    "    J.append(0.5*np.dot(err.T,err))     # store cost\n",
    "    \n",
    "    theta -= alpha * gradient           # weight update"
   ]
  },
  {
   "cell_type": "markdown",
   "metadata": {
    "slideshow": {
     "slide_type": "slide"
    }
   },
   "source": [
    "## Predictions after learning"
   ]
  },
  {
   "cell_type": "code",
   "execution_count": 6,
   "metadata": {},
   "outputs": [
    {
     "data": {
      "text/html": [
       "<div>\n",
       "<style scoped>\n",
       "    .dataframe tbody tr th:only-of-type {\n",
       "        vertical-align: middle;\n",
       "    }\n",
       "\n",
       "    .dataframe tbody tr th {\n",
       "        vertical-align: top;\n",
       "    }\n",
       "\n",
       "    .dataframe thead th {\n",
       "        text-align: right;\n",
       "    }\n",
       "</style>\n",
       "<table border=\"1\" class=\"dataframe\">\n",
       "  <thead>\n",
       "    <tr style=\"text-align: right;\">\n",
       "      <th></th>\n",
       "      <th>x1</th>\n",
       "      <th>x2</th>\n",
       "      <th>y</th>\n",
       "      <th>Prediction</th>\n",
       "    </tr>\n",
       "  </thead>\n",
       "  <tbody>\n",
       "    <tr>\n",
       "      <th>0</th>\n",
       "      <td>0</td>\n",
       "      <td>0</td>\n",
       "      <td>0</td>\n",
       "      <td>False</td>\n",
       "    </tr>\n",
       "    <tr>\n",
       "      <th>1</th>\n",
       "      <td>0</td>\n",
       "      <td>1</td>\n",
       "      <td>1</td>\n",
       "      <td>True</td>\n",
       "    </tr>\n",
       "    <tr>\n",
       "      <th>2</th>\n",
       "      <td>1</td>\n",
       "      <td>0</td>\n",
       "      <td>1</td>\n",
       "      <td>True</td>\n",
       "    </tr>\n",
       "    <tr>\n",
       "      <th>3</th>\n",
       "      <td>1</td>\n",
       "      <td>1</td>\n",
       "      <td>1</td>\n",
       "      <td>True</td>\n",
       "    </tr>\n",
       "  </tbody>\n",
       "</table>\n",
       "</div>"
      ],
      "text/plain": [
       "   x1  x2  y  Prediction\n",
       "0   0   0  0       False\n",
       "1   0   1  1        True\n",
       "2   1   0  1        True\n",
       "3   1   1  1        True"
      ]
     },
     "execution_count": 6,
     "metadata": {},
     "output_type": "execute_result"
    }
   ],
   "source": [
    "df['Prediction'] = np.dot(X,theta) > 0\n",
    "\n",
    "df[['x1','x2','y','Prediction']]"
   ]
  },
  {
   "cell_type": "markdown",
   "metadata": {
    "slideshow": {
     "slide_type": "slide"
    }
   },
   "source": [
    "## Plotting Cost"
   ]
  },
  {
   "cell_type": "code",
   "execution_count": 7,
   "metadata": {
    "slideshow": {
     "slide_type": "fragment"
    }
   },
   "outputs": [
    {
     "data": {
      "image/png": "[encoded data removed]",
      "text/plain": [
       "<Figure size 432x288 with 1 Axes>"
      ]
     },
     "metadata": {
      "needs_background": "light"
     },
     "output_type": "display_data"
    }
   ],
   "source": [
    "plt.plot(J)\n",
    "plt.xlabel('Epochs'); plt.ylabel('Cost'); plt.title('Cost vs Time')\n",
    "plt.show()"
   ]
  },
  {
   "cell_type": "markdown",
   "metadata": {
    "slideshow": {
     "slide_type": "slide"
    }
   },
   "source": [
    "## Visualize Decision Boundary"
   ]
  },
  {
   "cell_type": "code",
   "execution_count": 8,
   "metadata": {},
   "outputs": [
    {
     "data": {
      "image/png": "[encoded data removed]",
      "text/plain": [
       "<Figure size 432x288 with 1 Axes>"
      ]
     },
     "metadata": {
      "needs_background": "light"
     },
     "output_type": "display_data"
    }
   ],
   "source": [
    "xx, yy = np.meshgrid(np.arange(-.2, 1.2, .02),np.arange(-.2, 1.2, .02))\n",
    "Z = np.dot(np.c_[np.ones(len(xx.ravel())),xx.ravel(), yy.ravel()], theta) > 0\n",
    "Z = Z.reshape(xx.shape)\n",
    "\n",
    "plt.pcolormesh(xx, yy, Z,cmap=ListedColormap(['#FFAAAA', '#AAFFAA', '#AAAAFF']))\n",
    "plt.scatter(df['x1'],df['x2'],c=df['y'],cmap=ListedColormap(['#FF0000', '#00FF00', '#0000FF']))\n",
    "plt.show()"
   ]
  },
  {
   "cell_type": "markdown",
   "metadata": {
    "slideshow": {
     "slide_type": "slide"
    }
   },
   "source": [
    "# XOR Function"
   ]
  },
  {
   "cell_type": "code",
   "execution_count": 9,
   "metadata": {
    "scrolled": true,
    "slideshow": {
     "slide_type": "fragment"
    }
   },
   "outputs": [
    {
     "data": {
      "text/html": [
       "<div>\n",
       "<style scoped>\n",
       "    .dataframe tbody tr th:only-of-type {\n",
       "        vertical-align: middle;\n",
       "    }\n",
       "\n",
       "    .dataframe tbody tr th {\n",
       "        vertical-align: top;\n",
       "    }\n",
       "\n",
       "    .dataframe thead th {\n",
       "        text-align: right;\n",
       "    }\n",
       "</style>\n",
       "<table border=\"1\" class=\"dataframe\">\n",
       "  <thead>\n",
       "    <tr style=\"text-align: right;\">\n",
       "      <th></th>\n",
       "      <th>x1</th>\n",
       "      <th>x2</th>\n",
       "      <th>y</th>\n",
       "    </tr>\n",
       "  </thead>\n",
       "  <tbody>\n",
       "    <tr>\n",
       "      <th>0</th>\n",
       "      <td>0</td>\n",
       "      <td>0</td>\n",
       "      <td>0</td>\n",
       "    </tr>\n",
       "    <tr>\n",
       "      <th>1</th>\n",
       "      <td>0</td>\n",
       "      <td>1</td>\n",
       "      <td>1</td>\n",
       "    </tr>\n",
       "    <tr>\n",
       "      <th>2</th>\n",
       "      <td>1</td>\n",
       "      <td>0</td>\n",
       "      <td>1</td>\n",
       "    </tr>\n",
       "    <tr>\n",
       "      <th>3</th>\n",
       "      <td>1</td>\n",
       "      <td>1</td>\n",
       "      <td>0</td>\n",
       "    </tr>\n",
       "  </tbody>\n",
       "</table>\n",
       "</div>"
      ],
      "text/plain": [
       "   x1  x2  y\n",
       "0   0   0  0\n",
       "1   0   1  1\n",
       "2   1   0  1\n",
       "3   1   1  0"
      ]
     },
     "execution_count": 9,
     "metadata": {},
     "output_type": "execute_result"
    }
   ],
   "source": [
    "df = pd.DataFrame([[0,0,0],[0,1,1],[1,0,1],[1,1,0]],columns=['x1','x2','y'])\n",
    "df.head()"
   ]
  },
  {
   "cell_type": "code",
   "execution_count": 10,
   "metadata": {
    "slideshow": {
     "slide_type": "skip"
    }
   },
   "outputs": [],
   "source": [
    "df['bias'] = 1\n",
    "X = df[['bias','x1','x2']].values; Y = df['y'].values.reshape(4,1)"
   ]
  },
  {
   "cell_type": "markdown",
   "metadata": {
    "slideshow": {
     "slide_type": "slide"
    }
   },
   "source": [
    "## Plotting XOR"
   ]
  },
  {
   "cell_type": "code",
   "execution_count": 11,
   "metadata": {},
   "outputs": [
    {
     "data": {
      "image/png": "[encoded data removed]",
      "text/plain": [
       "<Figure size 432x288 with 1 Axes>"
      ]
     },
     "metadata": {
      "needs_background": "light"
     },
     "output_type": "display_data"
    }
   ],
   "source": [
    "plt.scatter(df['x1'],df['x2'],c=df['y'])\n",
    "plt.show()"
   ]
  },
  {
   "cell_type": "markdown",
   "metadata": {
    "slideshow": {
     "slide_type": "slide"
    }
   },
   "source": [
    "## Multi Layer Perceptron"
   ]
  },
  {
   "cell_type": "code",
   "execution_count": 12,
   "metadata": {
    "scrolled": true
   },
   "outputs": [],
   "source": [
    "alpha = 0.01                                 # set learning rate\n",
    "theta_1 = np.random.randn(3,2)               # init weights\n",
    "theta_2 = np.random.randn(2,1)        \n",
    "\n",
    "J = []                                       # store cost\n",
    "for i in range(10000):\n",
    "    l1 = np.dot(X, theta_1)                  # l1 = X * theta_1\n",
    "    y_hat = np.dot(l1, theta_2)              # Y_hat = l1 * theta_2\n",
    "    \n",
    "    err = Y - y_hat                          # measure error\n",
    "    dJ_dtheta2 = - np.dot(l1.T, err)         # compute gradients\n",
    "    \n",
    "    J.append(0.5*np.dot(err.T,err).squeeze())# store cost\n",
    "\n",
    "    theta_2 -= alpha * dJ_dtheta2            # weight update\n",
    "    dJ_dl1 = np.dot(err, theta_2.T)\n",
    "    \n",
    "    theta_1 -= alpha * np.dot(X.T, dJ_dl1)"
   ]
  },
  {
   "cell_type": "markdown",
   "metadata": {
    "slideshow": {
     "slide_type": "slide"
    }
   },
   "source": [
    "## Visualize Decision Boundary"
   ]
  },
  {
   "cell_type": "code",
   "execution_count": 13,
   "metadata": {},
   "outputs": [
    {
     "data": {
      "image/png": "[encoded data removed]",
      "text/plain": [
       "<Figure size 432x288 with 1 Axes>"
      ]
     },
     "metadata": {
      "needs_background": "light"
     },
     "output_type": "display_data"
    }
   ],
   "source": [
    "xx, yy = np.meshgrid(np.arange(-.2, 1.2, .02),np.arange(-.2, 1.2, .02))\n",
    "Z = np.dot(np.dot(np.c_[np.ones(len(xx.ravel())),xx.ravel(), yy.ravel()],theta_1), theta_2)  > 0\n",
    "Z = Z.reshape(xx.shape)\n",
    "\n",
    "plt.pcolormesh(xx, yy, Z,cmap=ListedColormap(['#FFAAAA', '#AAFFAA', '#AAAAFF']))\n",
    "plt.scatter(df['x1'],df['x2'],c=df['y'],cmap=ListedColormap(['#FF0000', '#00FF00', '#0000FF']))\n",
    "plt.show()"
   ]
  },
  {
   "cell_type": "markdown",
   "metadata": {
    "slideshow": {
     "slide_type": "slide"
    }
   },
   "source": [
    "# Multi Layer Perceptron - Non Linear Activations"
   ]
  },
  {
   "cell_type": "code",
   "execution_count": 14,
   "metadata": {
    "slideshow": {
     "slide_type": "skip"
    }
   },
   "outputs": [],
   "source": [
    "def sigmoid(z):\n",
    "    return 1 / (1 + np.exp(- z))\n",
    "\n",
    "def d_sigmoid(g):\n",
    "    return sigmoid(g) * (1 - sigmoid(g))"
   ]
  },
  {
   "cell_type": "code",
   "execution_count": 15,
   "metadata": {
    "scrolled": true
   },
   "outputs": [],
   "source": [
    "alpha = 0.001                                             # set learning rate\n",
    "theta_1 = np.random.normal(0,.1,size=(3,3))               # init weights\n",
    "theta_2 = np.random.normal(0,.1,size=(3,1)); b = 1       \n",
    "\n",
    "J = []                                                    # store cost\n",
    "for i in range(10000):\n",
    "    l1 = sigmoid(np.dot(X, theta_1))                      # l1 = X * theta_1\n",
    "    y_hat = np.dot(l1, theta_2) + b                       # Y_hat = l1 * theta_2 + b\n",
    "\n",
    "    err = Y - y_hat                                       # measure error\n",
    "    dJ_dtheta2 = - np.dot(l1.T, err)                      # compute gradients\n",
    "\n",
    "    J.append(0.5*np.dot(err.T,err).squeeze())             # store cost\n",
    "\n",
    "    theta_2 -= alpha * dJ_dtheta2                         # weight update\n",
    "    dJ_dl1 = np.dot(err, theta_2.T) * d_sigmoid(l1)\n",
    "\n",
    "    theta_1 -= alpha * np.dot(X.T, dJ_dl1)\n",
    "    b -= alpha * np.sum(dJ_dl1)\n",
    "    \n",
    "    if J[-1] == 0 or J[-1] > 10: break"
   ]
  },
  {
   "cell_type": "markdown",
   "metadata": {
    "slideshow": {
     "slide_type": "slide"
    }
   },
   "source": [
    "## Plotting Cost"
   ]
  },
  {
   "cell_type": "code",
   "execution_count": 16,
   "metadata": {
    "slideshow": {
     "slide_type": "fragment"
    }
   },
   "outputs": [
    {
     "data": {
      "image/png": "[encoded data removed]",
      "text/plain": [
       "<Figure size 432x288 with 1 Axes>"
      ]
     },
     "metadata": {
      "needs_background": "light"
     },
     "output_type": "display_data"
    }
   ],
   "source": [
    "plt.plot(J)\n",
    "plt.xlabel('Epochs'); plt.ylabel('Cost'); plt.title('Cost vs Time')\n",
    "plt.show()"
   ]
  },
  {
   "cell_type": "markdown",
   "metadata": {
    "slideshow": {
     "slide_type": "slide"
    }
   },
   "source": [
    "## Visualize Decision Boundary"
   ]
  },
  {
   "cell_type": "code",
   "execution_count": 17,
   "metadata": {},
   "outputs": [
    {
     "data": {
      "image/png": "[encoded data removed]",
      "text/plain": [
       "<Figure size 432x288 with 1 Axes>"
      ]
     },
     "metadata": {
      "needs_background": "light"
     },
     "output_type": "display_data"
    }
   ],
   "source": [
    "xx, yy = np.meshgrid(np.arange(-.2, 1.2, .02),np.arange(-.2, 1.2, .02))\n",
    "Z = np.dot(np.dot(np.c_[np.ones(len(xx.ravel())),xx.ravel(), yy.ravel()],theta_1), theta_2) + b\n",
    "Z = Z.reshape(xx.shape) > 0\n",
    "\n",
    "plt.pcolormesh(xx, yy, Z,cmap=ListedColormap(['#FFAAAA', '#AAFFAA', '#AAAAFF']))\n",
    "plt.scatter(df['x1'],df['x2'],c=df['y'],cmap=ListedColormap(['#FF0000', '#00FF00', '#0000FF']))\n",
    "plt.show()"
   ]
  },
  {
   "cell_type": "markdown",
   "metadata": {
    "slideshow": {
     "slide_type": "slide"
    }
   },
   "source": [
    "![Alt Text](https://www.researchgate.net/profile/Hayder_Al-Behadili/publication/325999203/figure/download/fig4/AS:641844216074241@1530038994324/Overfitting-and-underfitting-effect-on-error.png)"
   ]
  },
  {
   "cell_type": "markdown",
   "metadata": {
    "slideshow": {
     "slide_type": "slide"
    }
   },
   "source": [
    "## Learning Rate $\\lambda$\n",
    "![](https://cdn-images-1.medium.com/max/1600/0*uIa_Dz3czXO5iWyI.)"
   ]
  },
  {
   "cell_type": "markdown",
   "metadata": {
    "slideshow": {
     "slide_type": "slide"
    }
   },
   "source": [
    "![](https://s3.ap-south-1.amazonaws.com/techleerimages/0f1b1b40-08f0-467d-9a35-0f0fe71e0a43.png)"
   ]
  },
  {
   "cell_type": "markdown",
   "metadata": {
    "slideshow": {
     "slide_type": "slide"
    }
   },
   "source": [
    "![](https://cdn-images-1.medium.com/max/1600/1*OxAgYCBDKyXYLiWWUoKUcQ.png)"
   ]
  },
  {
   "cell_type": "code",
   "execution_count": 18,
   "metadata": {
    "slideshow": {
     "slide_type": "skip"
    }
   },
   "outputs": [
    {
     "name": "stderr",
     "output_type": "stream",
     "text": [
      "Using TensorFlow backend.\n"
     ]
    }
   ],
   "source": [
    "import keras\n",
    "from keras.datasets import mnist\n",
    "from keras.models import Sequential\n",
    "from keras.layers import Dense, Dropout, Flatten\n",
    "from keras import backend as K\n",
    "\n",
    "from keras.utils import plot_model\n",
    "from IPython.display import SVG\n",
    "from keras.utils.vis_utils import model_to_dot\n",
    "import numpy as np\n",
    "import matplotlib.pyplot as plt"
   ]
  },
  {
   "cell_type": "markdown",
   "metadata": {
    "slideshow": {
     "slide_type": "slide"
    }
   },
   "source": [
    "# MNIST\n",
    "![](data:image/png;base64,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)"
   ]
  },
  {
   "cell_type": "markdown",
   "metadata": {
    "slideshow": {
     "slide_type": "slide"
    }
   },
   "source": [
    "# Load Data"
   ]
  },
  {
   "cell_type": "code",
   "execution_count": 32,
   "metadata": {},
   "outputs": [],
   "source": [
    "num_classes = 10\n",
    "\n",
    "(x_train, y_train), (x_test, y_test) = mnist.load_data()\n",
    "\n",
    "x_train = x_train.astype('float32').reshape(-1,784)\n",
    "x_test = x_test.astype('float32').reshape(-1,784)\n",
    "\n",
    "x_train /= 255.; x_test /= 255.\n",
    "\n",
    "y_train = keras.utils.to_categorical(y_train, num_classes)\n",
    "y_test = keras.utils.to_categorical(y_test, num_classes)"
   ]
  },
  {
   "cell_type": "markdown",
   "metadata": {
    "slideshow": {
     "slide_type": "slide"
    }
   },
   "source": [
    "# Define a model"
   ]
  },
  {
   "cell_type": "code",
   "execution_count": 28,
   "metadata": {},
   "outputs": [],
   "source": [
    "model = Sequential()\n",
    "model.add(Dense(256, activation='relu',input_shape=(784,)))\n",
    "model.add(Dense(256, activation='relu'))\n",
    "\n",
    "model.add(Dense(10, activation='softmax'))\n",
    "\n",
    "model.compile(loss=keras.losses.categorical_crossentropy,optimizer=keras.optimizers.Adadelta(),metrics=['accuracy'])"
   ]
  },
  {
   "cell_type": "markdown",
   "metadata": {
    "slideshow": {
     "slide_type": "slide"
    }
   },
   "source": [
    "# Visualize Model"
   ]
  },
  {
   "cell_type": "code",
   "execution_count": 29,
   "metadata": {},
   "outputs": [
    {
     "data": {
      "image/svg+xml": [
       "<svg height=\"294pt\" viewBox=\"0.00 0.00 258.00 294.00\" width=\"258pt\" xmlns=\"http://www.w3.org/2000/svg\" xmlns:xlink=\"http://www.w3.org/1999/xlink\">\n",
       "<g class=\"graph\" id=\"graph0\" transform=\"scale(1 1) rotate(0) translate(4 290)\">\n",
       "<title>G</title>\n",
       "<polygon fill=\"white\" points=\"-4,4 -4,-290 254,-290 254,4 -4,4\" stroke=\"none\"/>\n",
       "<!-- 1863359062200 -->\n",
       "<g class=\"node\" id=\"node1\"><title>1863359062200</title>\n",
       "<polygon fill=\"none\" points=\"3.5,-166.5 3.5,-212.5 246.5,-212.5 246.5,-166.5 3.5,-166.5\" stroke=\"black\"/>\n",
       "<text font-family=\"Times New Roman,serif\" font-size=\"14.00\" text-anchor=\"middle\" x=\"55.5\" y=\"-185.8\">dense_8: Dense</text>\n",
       "<polyline fill=\"none\" points=\"107.5,-166.5 107.5,-212.5 \" stroke=\"black\"/>\n",
       "<text font-family=\"Times New Roman,serif\" font-size=\"14.00\" text-anchor=\"middle\" x=\"135.5\" y=\"-197.3\">input:</text>\n",
       "<polyline fill=\"none\" points=\"107.5,-189.5 163.5,-189.5 \" stroke=\"black\"/>\n",
       "<text font-family=\"Times New Roman,serif\" font-size=\"14.00\" text-anchor=\"middle\" x=\"135.5\" y=\"-174.3\">output:</text>\n",
       "<polyline fill=\"none\" points=\"163.5,-166.5 163.5,-212.5 \" stroke=\"black\"/>\n",
       "<text font-family=\"Times New Roman,serif\" font-size=\"14.00\" text-anchor=\"middle\" x=\"205\" y=\"-197.3\">(None, 784)</text>\n",
       "<polyline fill=\"none\" points=\"163.5,-189.5 246.5,-189.5 \" stroke=\"black\"/>\n",
       "<text font-family=\"Times New Roman,serif\" font-size=\"14.00\" text-anchor=\"middle\" x=\"205\" y=\"-174.3\">(None, 256)</text>\n",
       "</g>\n",
       "<!-- 1863359062144 -->\n",
       "<g class=\"node\" id=\"node2\"><title>1863359062144</title>\n",
       "<polygon fill=\"none\" points=\"3.5,-83.5 3.5,-129.5 246.5,-129.5 246.5,-83.5 3.5,-83.5\" stroke=\"black\"/>\n",
       "<text font-family=\"Times New Roman,serif\" font-size=\"14.00\" text-anchor=\"middle\" x=\"55.5\" y=\"-102.8\">dense_9: Dense</text>\n",
       "<polyline fill=\"none\" points=\"107.5,-83.5 107.5,-129.5 \" stroke=\"black\"/>\n",
       "<text font-family=\"Times New Roman,serif\" font-size=\"14.00\" text-anchor=\"middle\" x=\"135.5\" y=\"-114.3\">input:</text>\n",
       "<polyline fill=\"none\" points=\"107.5,-106.5 163.5,-106.5 \" stroke=\"black\"/>\n",
       "<text font-family=\"Times New Roman,serif\" font-size=\"14.00\" text-anchor=\"middle\" x=\"135.5\" y=\"-91.3\">output:</text>\n",
       "<polyline fill=\"none\" points=\"163.5,-83.5 163.5,-129.5 \" stroke=\"black\"/>\n",
       "<text font-family=\"Times New Roman,serif\" font-size=\"14.00\" text-anchor=\"middle\" x=\"205\" y=\"-114.3\">(None, 256)</text>\n",
       "<polyline fill=\"none\" points=\"163.5,-106.5 246.5,-106.5 \" stroke=\"black\"/>\n",
       "<text font-family=\"Times New Roman,serif\" font-size=\"14.00\" text-anchor=\"middle\" x=\"205\" y=\"-91.3\">(None, 256)</text>\n",
       "</g>\n",
       "<!-- 1863359062200&#45;&gt;1863359062144 -->\n",
       "<g class=\"edge\" id=\"edge2\"><title>1863359062200-&gt;1863359062144</title>\n",
       "<path d=\"M125,-166.366C125,-158.152 125,-148.658 125,-139.725\" fill=\"none\" stroke=\"black\"/>\n",
       "<polygon fill=\"black\" points=\"128.5,-139.607 125,-129.607 121.5,-139.607 128.5,-139.607\" stroke=\"black\"/>\n",
       "</g>\n",
       "<!-- 1863359047160 -->\n",
       "<g class=\"node\" id=\"node3\"><title>1863359047160</title>\n",
       "<polygon fill=\"none\" points=\"0,-0.5 0,-46.5 250,-46.5 250,-0.5 0,-0.5\" stroke=\"black\"/>\n",
       "<text font-family=\"Times New Roman,serif\" font-size=\"14.00\" text-anchor=\"middle\" x=\"55.5\" y=\"-19.8\">dense_10: Dense</text>\n",
       "<polyline fill=\"none\" points=\"111,-0.5 111,-46.5 \" stroke=\"black\"/>\n",
       "<text font-family=\"Times New Roman,serif\" font-size=\"14.00\" text-anchor=\"middle\" x=\"139\" y=\"-31.3\">input:</text>\n",
       "<polyline fill=\"none\" points=\"111,-23.5 167,-23.5 \" stroke=\"black\"/>\n",
       "<text font-family=\"Times New Roman,serif\" font-size=\"14.00\" text-anchor=\"middle\" x=\"139\" y=\"-8.3\">output:</text>\n",
       "<polyline fill=\"none\" points=\"167,-0.5 167,-46.5 \" stroke=\"black\"/>\n",
       "<text font-family=\"Times New Roman,serif\" font-size=\"14.00\" text-anchor=\"middle\" x=\"208.5\" y=\"-31.3\">(None, 256)</text>\n",
       "<polyline fill=\"none\" points=\"167,-23.5 250,-23.5 \" stroke=\"black\"/>\n",
       "<text font-family=\"Times New Roman,serif\" font-size=\"14.00\" text-anchor=\"middle\" x=\"208.5\" y=\"-8.3\">(None, 10)</text>\n",
       "</g>\n",
       "<!-- 1863359062144&#45;&gt;1863359047160 -->\n",
       "<g class=\"edge\" id=\"edge3\"><title>1863359062144-&gt;1863359047160</title>\n",
       "<path d=\"M125,-83.3664C125,-75.1516 125,-65.6579 125,-56.7252\" fill=\"none\" stroke=\"black\"/>\n",
       "<polygon fill=\"black\" points=\"128.5,-56.6068 125,-46.6068 121.5,-56.6069 128.5,-56.6068\" stroke=\"black\"/>\n",
       "</g>\n",
       "<!-- 1863359072240 -->\n",
       "<g class=\"node\" id=\"node4\"><title>1863359072240</title>\n",
       "<polygon fill=\"none\" points=\"73,-249.5 73,-285.5 177,-285.5 177,-249.5 73,-249.5\" stroke=\"black\"/>\n",
       "<text font-family=\"Times New Roman,serif\" font-size=\"14.00\" text-anchor=\"middle\" x=\"125\" y=\"-263.8\">1863359072240</text>\n",
       "</g>\n",
       "<!-- 1863359072240&#45;&gt;1863359062200 -->\n",
       "<g class=\"edge\" id=\"edge1\"><title>1863359072240-&gt;1863359062200</title>\n",
       "<path d=\"M125,-249.254C125,-241.363 125,-231.749 125,-222.602\" fill=\"none\" stroke=\"black\"/>\n",
       "<polygon fill=\"black\" points=\"128.5,-222.591 125,-212.591 121.5,-222.591 128.5,-222.591\" stroke=\"black\"/>\n",
       "</g>\n",
       "</g>\n",
       "</svg>"
      ],
      "text/plain": [
       "<IPython.core.display.SVG object>"
      ]
     },
     "execution_count": 29,
     "metadata": {},
     "output_type": "execute_result"
    }
   ],
   "source": [
    "SVG(model_to_dot(model,show_shapes=True).create(prog='dot', format='svg'))"
   ]
  },
  {
   "cell_type": "markdown",
   "metadata": {
    "slideshow": {
     "slide_type": "slide"
    }
   },
   "source": [
    "# Train Model"
   ]
  },
  {
   "cell_type": "code",
   "execution_count": 33,
   "metadata": {},
   "outputs": [
    {
     "name": "stdout",
     "output_type": "stream",
     "text": [
      "Train on 60000 samples, validate on 10000 samples\n",
      "Epoch 1/10\n",
      "60000/60000 [==============================] - 14s 235us/step - loss: 0.2042 - acc: 0.9383 - val_loss: 0.1003 - val_acc: 0.9688\n",
      "Epoch 2/10\n",
      "60000/60000 [==============================] - 11s 181us/step - loss: 0.0843 - acc: 0.9746 - val_loss: 0.0884 - val_acc: 0.9732\n",
      "Epoch 3/10\n",
      "60000/60000 [==============================] - 11s 191us/step - loss: 0.0552 - acc: 0.9832 - val_loss: 0.0719 - val_acc: 0.9800\n",
      "Epoch 4/10\n",
      "60000/60000 [==============================] - 12s 200us/step - loss: 0.0394 - acc: 0.9880 - val_loss: 0.0692 - val_acc: 0.9797\n",
      "Epoch 5/10\n",
      "60000/60000 [==============================] - 12s 205us/step - loss: 0.0305 - acc: 0.9906 - val_loss: 0.0680 - val_acc: 0.9806\n",
      "Epoch 6/10\n",
      "60000/60000 [==============================] - 11s 184us/step - loss: 0.0229 - acc: 0.9932 - val_loss: 0.0763 - val_acc: 0.9796\n",
      "Epoch 7/10\n",
      "60000/60000 [==============================] - 11s 184us/step - loss: 0.0176 - acc: 0.9948 - val_loss: 0.0758 - val_acc: 0.9813\n",
      "Epoch 8/10\n",
      "60000/60000 [==============================] - 11s 182us/step - loss: 0.0130 - acc: 0.9960 - val_loss: 0.0758 - val_acc: 0.9815\n",
      "Epoch 9/10\n",
      "60000/60000 [==============================] - 12s 202us/step - loss: 0.0096 - acc: 0.9973 - val_loss: 0.0791 - val_acc: 0.9803\n",
      "Epoch 10/10\n",
      "60000/60000 [==============================] - 12s 202us/step - loss: 0.0072 - acc: 0.9978 - val_loss: 0.0753 - val_acc: 0.9822\n"
     ]
    },
    {
     "data": {
      "text/plain": [
       "<keras.callbacks.History at 0x1b1d8e9c898>"
      ]
     },
     "execution_count": 33,
     "metadata": {},
     "output_type": "execute_result"
    }
   ],
   "source": [
    "model.fit(x_train, y_train,batch_size=32,epochs=10,verbose=1,validation_data=(x_test, y_test))"
   ]
  }
 ],
 "metadata": {
  "celltoolbar": "Slideshow",
  "kernelspec": {
   "display_name": "Python 3",
   "language": "python",
   "name": "python3"
  },
  "language_info": {
   "codemirror_mode": {
    "name": "ipython",
    "version": 3
   },
   "file_extension": ".py",
   "mimetype": "text/x-python",
   "name": "python",
   "nbconvert_exporter": "python",
   "pygments_lexer": "ipython3",
   "version": "3.6.6"
  }
 },
 "nbformat": 4,
 "nbformat_minor": 2
}
